{
  "cells": [
    {
      "cell_type": "code",
      "execution_count": 1,
      "metadata": {
        "id": "DKG4vIeXgmSS"
      },
      "outputs": [],
      "source": [
        "import numpy as np\n",
        "import pandas as pd\n",
        "import seaborn as sns\n",
        "import matplotlib.pyplot as plt\n",
        "from sklearn.preprocessing import LabelEncoder"
      ]
    },
    {
      "cell_type": "markdown",
      "metadata": {
        "id": "b9Mpuf4NvhZl"
      },
      "source": [
        "DATA CLEANING"
      ]
    },
    {
      "cell_type": "code",
      "execution_count": 2,
      "metadata": {
        "colab": {
          "base_uri": "https://localhost:8080/",
          "height": 270
        },
        "id": "ppmrwnGyhT3A",
        "outputId": "7874f282-602d-4719-c5de-2a06948094af"
      },
      "outputs": [
        {
          "data": {
            "text/html": [
              "<div>\n",
              "<style scoped>\n",
              "    .dataframe tbody tr th:only-of-type {\n",
              "        vertical-align: middle;\n",
              "    }\n",
              "\n",
              "    .dataframe tbody tr th {\n",
              "        vertical-align: top;\n",
              "    }\n",
              "\n",
              "    .dataframe thead th {\n",
              "        text-align: right;\n",
              "    }\n",
              "</style>\n",
              "<table border=\"1\" class=\"dataframe\">\n",
              "  <thead>\n",
              "    <tr style=\"text-align: right;\">\n",
              "      <th></th>\n",
              "      <th>HeartDisease</th>\n",
              "      <th>BMI</th>\n",
              "      <th>Smoking</th>\n",
              "      <th>AlcoholDrinking</th>\n",
              "      <th>Stroke</th>\n",
              "      <th>PhysicalHealth</th>\n",
              "      <th>MentalHealth</th>\n",
              "      <th>DiffWalking</th>\n",
              "      <th>Sex</th>\n",
              "      <th>AgeCategory</th>\n",
              "      <th>Race</th>\n",
              "      <th>Diabetic</th>\n",
              "      <th>PhysicalActivity</th>\n",
              "      <th>GenHealth</th>\n",
              "      <th>SleepTime</th>\n",
              "      <th>Asthma</th>\n",
              "      <th>KidneyDisease</th>\n",
              "      <th>SkinCancer</th>\n",
              "    </tr>\n",
              "  </thead>\n",
              "  <tbody>\n",
              "    <tr>\n",
              "      <th>0</th>\n",
              "      <td>No</td>\n",
              "      <td>16.60</td>\n",
              "      <td>Yes</td>\n",
              "      <td>No</td>\n",
              "      <td>No</td>\n",
              "      <td>3.0</td>\n",
              "      <td>30.0</td>\n",
              "      <td>No</td>\n",
              "      <td>Female</td>\n",
              "      <td>55-59</td>\n",
              "      <td>White</td>\n",
              "      <td>Yes</td>\n",
              "      <td>Yes</td>\n",
              "      <td>Very good</td>\n",
              "      <td>5.0</td>\n",
              "      <td>Yes</td>\n",
              "      <td>No</td>\n",
              "      <td>Yes</td>\n",
              "    </tr>\n",
              "    <tr>\n",
              "      <th>1</th>\n",
              "      <td>No</td>\n",
              "      <td>20.34</td>\n",
              "      <td>No</td>\n",
              "      <td>No</td>\n",
              "      <td>Yes</td>\n",
              "      <td>0.0</td>\n",
              "      <td>0.0</td>\n",
              "      <td>No</td>\n",
              "      <td>Female</td>\n",
              "      <td>80 or older</td>\n",
              "      <td>White</td>\n",
              "      <td>No</td>\n",
              "      <td>Yes</td>\n",
              "      <td>Very good</td>\n",
              "      <td>7.0</td>\n",
              "      <td>No</td>\n",
              "      <td>No</td>\n",
              "      <td>No</td>\n",
              "    </tr>\n",
              "    <tr>\n",
              "      <th>2</th>\n",
              "      <td>No</td>\n",
              "      <td>26.58</td>\n",
              "      <td>Yes</td>\n",
              "      <td>No</td>\n",
              "      <td>No</td>\n",
              "      <td>20.0</td>\n",
              "      <td>30.0</td>\n",
              "      <td>No</td>\n",
              "      <td>Male</td>\n",
              "      <td>65-69</td>\n",
              "      <td>White</td>\n",
              "      <td>Yes</td>\n",
              "      <td>Yes</td>\n",
              "      <td>Fair</td>\n",
              "      <td>8.0</td>\n",
              "      <td>Yes</td>\n",
              "      <td>No</td>\n",
              "      <td>No</td>\n",
              "    </tr>\n",
              "    <tr>\n",
              "      <th>3</th>\n",
              "      <td>No</td>\n",
              "      <td>24.21</td>\n",
              "      <td>No</td>\n",
              "      <td>No</td>\n",
              "      <td>No</td>\n",
              "      <td>0.0</td>\n",
              "      <td>0.0</td>\n",
              "      <td>No</td>\n",
              "      <td>Female</td>\n",
              "      <td>75-79</td>\n",
              "      <td>White</td>\n",
              "      <td>No</td>\n",
              "      <td>No</td>\n",
              "      <td>Good</td>\n",
              "      <td>6.0</td>\n",
              "      <td>No</td>\n",
              "      <td>No</td>\n",
              "      <td>Yes</td>\n",
              "    </tr>\n",
              "    <tr>\n",
              "      <th>4</th>\n",
              "      <td>No</td>\n",
              "      <td>23.71</td>\n",
              "      <td>No</td>\n",
              "      <td>No</td>\n",
              "      <td>No</td>\n",
              "      <td>28.0</td>\n",
              "      <td>0.0</td>\n",
              "      <td>Yes</td>\n",
              "      <td>Female</td>\n",
              "      <td>40-44</td>\n",
              "      <td>White</td>\n",
              "      <td>No</td>\n",
              "      <td>Yes</td>\n",
              "      <td>Very good</td>\n",
              "      <td>8.0</td>\n",
              "      <td>No</td>\n",
              "      <td>No</td>\n",
              "      <td>No</td>\n",
              "    </tr>\n",
              "  </tbody>\n",
              "</table>\n",
              "</div>"
            ],
            "text/plain": [
              "  HeartDisease    BMI Smoking AlcoholDrinking Stroke  PhysicalHealth  \\\n",
              "0           No  16.60     Yes              No     No             3.0   \n",
              "1           No  20.34      No              No    Yes             0.0   \n",
              "2           No  26.58     Yes              No     No            20.0   \n",
              "3           No  24.21      No              No     No             0.0   \n",
              "4           No  23.71      No              No     No            28.0   \n",
              "\n",
              "   MentalHealth DiffWalking     Sex  AgeCategory   Race Diabetic  \\\n",
              "0          30.0          No  Female        55-59  White      Yes   \n",
              "1           0.0          No  Female  80 or older  White       No   \n",
              "2          30.0          No    Male        65-69  White      Yes   \n",
              "3           0.0          No  Female        75-79  White       No   \n",
              "4           0.0         Yes  Female        40-44  White       No   \n",
              "\n",
              "  PhysicalActivity  GenHealth  SleepTime Asthma KidneyDisease SkinCancer  \n",
              "0              Yes  Very good        5.0    Yes            No        Yes  \n",
              "1              Yes  Very good        7.0     No            No         No  \n",
              "2              Yes       Fair        8.0    Yes            No         No  \n",
              "3               No       Good        6.0     No            No        Yes  \n",
              "4              Yes  Very good        8.0     No            No         No  "
            ]
          },
          "execution_count": 2,
          "metadata": {},
          "output_type": "execute_result"
        }
      ],
      "source": [
        "h=pd.read_csv(\"heart_2020_cleaned.csv\")\n",
        "h.head()"
      ]
    },
    {
      "cell_type": "code",
      "execution_count": 3,
      "metadata": {
        "colab": {
          "base_uri": "https://localhost:8080/",
          "height": 300
        },
        "id": "jAi7rOCgnToO",
        "outputId": "b26bda75-345b-4d14-8e35-f187e26741e4"
      },
      "outputs": [
        {
          "data": {
            "text/html": [
              "<div>\n",
              "<style scoped>\n",
              "    .dataframe tbody tr th:only-of-type {\n",
              "        vertical-align: middle;\n",
              "    }\n",
              "\n",
              "    .dataframe tbody tr th {\n",
              "        vertical-align: top;\n",
              "    }\n",
              "\n",
              "    .dataframe thead th {\n",
              "        text-align: right;\n",
              "    }\n",
              "</style>\n",
              "<table border=\"1\" class=\"dataframe\">\n",
              "  <thead>\n",
              "    <tr style=\"text-align: right;\">\n",
              "      <th></th>\n",
              "      <th>BMI</th>\n",
              "      <th>PhysicalHealth</th>\n",
              "      <th>MentalHealth</th>\n",
              "      <th>SleepTime</th>\n",
              "    </tr>\n",
              "  </thead>\n",
              "  <tbody>\n",
              "    <tr>\n",
              "      <th>count</th>\n",
              "      <td>319795.000000</td>\n",
              "      <td>319795.00000</td>\n",
              "      <td>319795.000000</td>\n",
              "      <td>319795.000000</td>\n",
              "    </tr>\n",
              "    <tr>\n",
              "      <th>mean</th>\n",
              "      <td>28.325399</td>\n",
              "      <td>3.37171</td>\n",
              "      <td>3.898366</td>\n",
              "      <td>7.097075</td>\n",
              "    </tr>\n",
              "    <tr>\n",
              "      <th>std</th>\n",
              "      <td>6.356100</td>\n",
              "      <td>7.95085</td>\n",
              "      <td>7.955235</td>\n",
              "      <td>1.436007</td>\n",
              "    </tr>\n",
              "    <tr>\n",
              "      <th>min</th>\n",
              "      <td>12.020000</td>\n",
              "      <td>0.00000</td>\n",
              "      <td>0.000000</td>\n",
              "      <td>1.000000</td>\n",
              "    </tr>\n",
              "    <tr>\n",
              "      <th>25%</th>\n",
              "      <td>24.030000</td>\n",
              "      <td>0.00000</td>\n",
              "      <td>0.000000</td>\n",
              "      <td>6.000000</td>\n",
              "    </tr>\n",
              "    <tr>\n",
              "      <th>50%</th>\n",
              "      <td>27.340000</td>\n",
              "      <td>0.00000</td>\n",
              "      <td>0.000000</td>\n",
              "      <td>7.000000</td>\n",
              "    </tr>\n",
              "    <tr>\n",
              "      <th>75%</th>\n",
              "      <td>31.420000</td>\n",
              "      <td>2.00000</td>\n",
              "      <td>3.000000</td>\n",
              "      <td>8.000000</td>\n",
              "    </tr>\n",
              "    <tr>\n",
              "      <th>max</th>\n",
              "      <td>94.850000</td>\n",
              "      <td>30.00000</td>\n",
              "      <td>30.000000</td>\n",
              "      <td>24.000000</td>\n",
              "    </tr>\n",
              "  </tbody>\n",
              "</table>\n",
              "</div>"
            ],
            "text/plain": [
              "                 BMI  PhysicalHealth   MentalHealth      SleepTime\n",
              "count  319795.000000    319795.00000  319795.000000  319795.000000\n",
              "mean       28.325399         3.37171       3.898366       7.097075\n",
              "std         6.356100         7.95085       7.955235       1.436007\n",
              "min        12.020000         0.00000       0.000000       1.000000\n",
              "25%        24.030000         0.00000       0.000000       6.000000\n",
              "50%        27.340000         0.00000       0.000000       7.000000\n",
              "75%        31.420000         2.00000       3.000000       8.000000\n",
              "max        94.850000        30.00000      30.000000      24.000000"
            ]
          },
          "execution_count": 3,
          "metadata": {},
          "output_type": "execute_result"
        }
      ],
      "source": [
        "h.describe()"
      ]
    },
    {
      "cell_type": "code",
      "execution_count": 4,
      "metadata": {
        "colab": {
          "base_uri": "https://localhost:8080/"
        },
        "id": "gnmyKVrLhgmz",
        "outputId": "e6d54cd4-f64f-4558-d944-8dc59d47bb9e"
      },
      "outputs": [
        {
          "name": "stdout",
          "output_type": "stream",
          "text": [
            "<class 'pandas.core.frame.DataFrame'>\n",
            "RangeIndex: 319795 entries, 0 to 319794\n",
            "Data columns (total 18 columns):\n",
            " #   Column            Non-Null Count   Dtype  \n",
            "---  ------            --------------   -----  \n",
            " 0   HeartDisease      319795 non-null  object \n",
            " 1   BMI               319795 non-null  float64\n",
            " 2   Smoking           319795 non-null  object \n",
            " 3   AlcoholDrinking   319795 non-null  object \n",
            " 4   Stroke            319795 non-null  object \n",
            " 5   PhysicalHealth    319795 non-null  float64\n",
            " 6   MentalHealth      319795 non-null  float64\n",
            " 7   DiffWalking       319795 non-null  object \n",
            " 8   Sex               319795 non-null  object \n",
            " 9   AgeCategory       319795 non-null  object \n",
            " 10  Race              319795 non-null  object \n",
            " 11  Diabetic          319795 non-null  object \n",
            " 12  PhysicalActivity  319795 non-null  object \n",
            " 13  GenHealth         319795 non-null  object \n",
            " 14  SleepTime         319795 non-null  float64\n",
            " 15  Asthma            319795 non-null  object \n",
            " 16  KidneyDisease     319795 non-null  object \n",
            " 17  SkinCancer        319795 non-null  object \n",
            "dtypes: float64(4), object(14)\n",
            "memory usage: 26.8+ MB\n"
          ]
        }
      ],
      "source": [
        "h.info()"
      ]
    },
    {
      "cell_type": "code",
      "execution_count": 5,
      "metadata": {
        "colab": {
          "base_uri": "https://localhost:8080/"
        },
        "id": "-WWzSUOljK5v",
        "outputId": "9ed4f92e-5ee3-4d62-86a1-db6a7bfc671f"
      },
      "outputs": [
        {
          "data": {
            "text/plain": [
              "HeartDisease        0\n",
              "BMI                 0\n",
              "Smoking             0\n",
              "AlcoholDrinking     0\n",
              "Stroke              0\n",
              "PhysicalHealth      0\n",
              "MentalHealth        0\n",
              "DiffWalking         0\n",
              "Sex                 0\n",
              "AgeCategory         0\n",
              "Race                0\n",
              "Diabetic            0\n",
              "PhysicalActivity    0\n",
              "GenHealth           0\n",
              "SleepTime           0\n",
              "Asthma              0\n",
              "KidneyDisease       0\n",
              "SkinCancer          0\n",
              "dtype: int64"
            ]
          },
          "execution_count": 5,
          "metadata": {},
          "output_type": "execute_result"
        }
      ],
      "source": [
        "h.isnull().sum()\n"
      ]
    },
    {
      "cell_type": "code",
      "execution_count": 6,
      "metadata": {
        "id": "DCvbmQyXhxgN"
      },
      "outputs": [],
      "source": [
        "h1=h.copy()\n"
      ]
    },
    {
      "cell_type": "code",
      "execution_count": 7,
      "metadata": {
        "colab": {
          "base_uri": "https://localhost:8080/"
        },
        "id": "Zq-uF24AiYlz",
        "outputId": "c412760c-a2d9-4a3a-f936-0098c0a6ee5b"
      },
      "outputs": [
        {
          "data": {
            "text/plain": [
              "HeartDisease        0\n",
              "BMI                 0\n",
              "Smoking             0\n",
              "AlcoholDrinking     0\n",
              "Stroke              0\n",
              "PhysicalHealth      0\n",
              "MentalHealth        0\n",
              "DiffWalking         0\n",
              "Sex                 0\n",
              "AgeCategory         0\n",
              "Race                0\n",
              "Diabetic            0\n",
              "PhysicalActivity    0\n",
              "GenHealth           0\n",
              "SleepTime           0\n",
              "Asthma              0\n",
              "KidneyDisease       0\n",
              "SkinCancer          0\n",
              "dtype: int64"
            ]
          },
          "execution_count": 7,
          "metadata": {},
          "output_type": "execute_result"
        }
      ],
      "source": [
        "h1.dropna(inplace=True)\n",
        "h1.isnull().sum()"
      ]
    },
    {
      "cell_type": "code",
      "execution_count": 8,
      "metadata": {
        "colab": {
          "base_uri": "https://localhost:8080/"
        },
        "id": "6kqPdAeKieKp",
        "outputId": "74b0ca32-5806-4347-ad9f-c34f6db8a341"
      },
      "outputs": [
        {
          "name": "stdout",
          "output_type": "stream",
          "text": [
            "<class 'pandas.core.frame.DataFrame'>\n",
            "Int64Index: 319795 entries, 0 to 319794\n",
            "Data columns (total 18 columns):\n",
            " #   Column            Non-Null Count   Dtype  \n",
            "---  ------            --------------   -----  \n",
            " 0   HeartDisease      319795 non-null  object \n",
            " 1   BMI               319795 non-null  float64\n",
            " 2   Smoking           319795 non-null  object \n",
            " 3   AlcoholDrinking   319795 non-null  object \n",
            " 4   Stroke            319795 non-null  object \n",
            " 5   PhysicalHealth    319795 non-null  float64\n",
            " 6   MentalHealth      319795 non-null  float64\n",
            " 7   DiffWalking       319795 non-null  object \n",
            " 8   Sex               319795 non-null  object \n",
            " 9   AgeCategory       319795 non-null  object \n",
            " 10  Race              319795 non-null  object \n",
            " 11  Diabetic          319795 non-null  object \n",
            " 12  PhysicalActivity  319795 non-null  object \n",
            " 13  GenHealth         319795 non-null  object \n",
            " 14  SleepTime         319795 non-null  float64\n",
            " 15  Asthma            319795 non-null  object \n",
            " 16  KidneyDisease     319795 non-null  object \n",
            " 17  SkinCancer        319795 non-null  object \n",
            "dtypes: float64(4), object(14)\n",
            "memory usage: 29.3+ MB\n"
          ]
        }
      ],
      "source": [
        "h1.info()"
      ]
    },
    {
      "cell_type": "code",
      "execution_count": 9,
      "metadata": {
        "colab": {
          "base_uri": "https://localhost:8080/"
        },
        "id": "WN9hkdAW-Ahg",
        "outputId": "cfaa3aa5-9971-4b26-ce71-b58d99345c63"
      },
      "outputs": [
        {
          "data": {
            "text/plain": [
              "array(['White', 'Black', 'Asian', 'American Indian/Alaskan Native',\n",
              "       'Other', 'Hispanic'], dtype=object)"
            ]
          },
          "execution_count": 9,
          "metadata": {},
          "output_type": "execute_result"
        }
      ],
      "source": [
        "h.Race.unique()"
      ]
    },
    {
      "cell_type": "code",
      "execution_count": 10,
      "metadata": {
        "colab": {
          "base_uri": "https://localhost:8080/",
          "height": 426
        },
        "id": "yLrYSpgHihS6",
        "outputId": "1e85c3a3-a72e-4430-eacd-dfff5a467f0f"
      },
      "outputs": [
        {
          "data": {
            "text/html": [
              "<div>\n",
              "<style scoped>\n",
              "    .dataframe tbody tr th:only-of-type {\n",
              "        vertical-align: middle;\n",
              "    }\n",
              "\n",
              "    .dataframe tbody tr th {\n",
              "        vertical-align: top;\n",
              "    }\n",
              "\n",
              "    .dataframe thead th {\n",
              "        text-align: right;\n",
              "    }\n",
              "</style>\n",
              "<table border=\"1\" class=\"dataframe\">\n",
              "  <thead>\n",
              "    <tr style=\"text-align: right;\">\n",
              "      <th></th>\n",
              "      <th>HeartDisease</th>\n",
              "      <th>BMI</th>\n",
              "      <th>Smoking</th>\n",
              "      <th>AlcoholDrinking</th>\n",
              "      <th>Stroke</th>\n",
              "      <th>PhysicalHealth</th>\n",
              "      <th>MentalHealth</th>\n",
              "      <th>DiffWalking</th>\n",
              "      <th>Sex</th>\n",
              "      <th>AgeCategory</th>\n",
              "      <th>Race</th>\n",
              "      <th>Diabetic</th>\n",
              "      <th>PhysicalActivity</th>\n",
              "      <th>GenHealth</th>\n",
              "      <th>SleepTime</th>\n",
              "      <th>Asthma</th>\n",
              "      <th>KidneyDisease</th>\n",
              "      <th>SkinCancer</th>\n",
              "    </tr>\n",
              "  </thead>\n",
              "  <tbody>\n",
              "    <tr>\n",
              "      <th>0</th>\n",
              "      <td>0</td>\n",
              "      <td>16.60</td>\n",
              "      <td>1</td>\n",
              "      <td>0</td>\n",
              "      <td>0</td>\n",
              "      <td>3.0</td>\n",
              "      <td>30.0</td>\n",
              "      <td>0</td>\n",
              "      <td>0</td>\n",
              "      <td>55-59</td>\n",
              "      <td>5</td>\n",
              "      <td>2</td>\n",
              "      <td>1</td>\n",
              "      <td>4</td>\n",
              "      <td>5.0</td>\n",
              "      <td>1</td>\n",
              "      <td>0</td>\n",
              "      <td>1</td>\n",
              "    </tr>\n",
              "    <tr>\n",
              "      <th>1</th>\n",
              "      <td>0</td>\n",
              "      <td>20.34</td>\n",
              "      <td>0</td>\n",
              "      <td>0</td>\n",
              "      <td>1</td>\n",
              "      <td>0.0</td>\n",
              "      <td>0.0</td>\n",
              "      <td>0</td>\n",
              "      <td>0</td>\n",
              "      <td>80 or older</td>\n",
              "      <td>5</td>\n",
              "      <td>0</td>\n",
              "      <td>1</td>\n",
              "      <td>4</td>\n",
              "      <td>7.0</td>\n",
              "      <td>0</td>\n",
              "      <td>0</td>\n",
              "      <td>0</td>\n",
              "    </tr>\n",
              "    <tr>\n",
              "      <th>2</th>\n",
              "      <td>0</td>\n",
              "      <td>26.58</td>\n",
              "      <td>1</td>\n",
              "      <td>0</td>\n",
              "      <td>0</td>\n",
              "      <td>20.0</td>\n",
              "      <td>30.0</td>\n",
              "      <td>0</td>\n",
              "      <td>1</td>\n",
              "      <td>65-69</td>\n",
              "      <td>5</td>\n",
              "      <td>2</td>\n",
              "      <td>1</td>\n",
              "      <td>1</td>\n",
              "      <td>8.0</td>\n",
              "      <td>1</td>\n",
              "      <td>0</td>\n",
              "      <td>0</td>\n",
              "    </tr>\n",
              "    <tr>\n",
              "      <th>3</th>\n",
              "      <td>0</td>\n",
              "      <td>24.21</td>\n",
              "      <td>0</td>\n",
              "      <td>0</td>\n",
              "      <td>0</td>\n",
              "      <td>0.0</td>\n",
              "      <td>0.0</td>\n",
              "      <td>0</td>\n",
              "      <td>0</td>\n",
              "      <td>75-79</td>\n",
              "      <td>5</td>\n",
              "      <td>0</td>\n",
              "      <td>0</td>\n",
              "      <td>2</td>\n",
              "      <td>6.0</td>\n",
              "      <td>0</td>\n",
              "      <td>0</td>\n",
              "      <td>1</td>\n",
              "    </tr>\n",
              "    <tr>\n",
              "      <th>4</th>\n",
              "      <td>0</td>\n",
              "      <td>23.71</td>\n",
              "      <td>0</td>\n",
              "      <td>0</td>\n",
              "      <td>0</td>\n",
              "      <td>28.0</td>\n",
              "      <td>0.0</td>\n",
              "      <td>1</td>\n",
              "      <td>0</td>\n",
              "      <td>40-44</td>\n",
              "      <td>5</td>\n",
              "      <td>0</td>\n",
              "      <td>1</td>\n",
              "      <td>4</td>\n",
              "      <td>8.0</td>\n",
              "      <td>0</td>\n",
              "      <td>0</td>\n",
              "      <td>0</td>\n",
              "    </tr>\n",
              "    <tr>\n",
              "      <th>5</th>\n",
              "      <td>1</td>\n",
              "      <td>28.87</td>\n",
              "      <td>1</td>\n",
              "      <td>0</td>\n",
              "      <td>0</td>\n",
              "      <td>6.0</td>\n",
              "      <td>0.0</td>\n",
              "      <td>1</td>\n",
              "      <td>0</td>\n",
              "      <td>75-79</td>\n",
              "      <td>2</td>\n",
              "      <td>0</td>\n",
              "      <td>0</td>\n",
              "      <td>1</td>\n",
              "      <td>12.0</td>\n",
              "      <td>0</td>\n",
              "      <td>0</td>\n",
              "      <td>0</td>\n",
              "    </tr>\n",
              "    <tr>\n",
              "      <th>6</th>\n",
              "      <td>0</td>\n",
              "      <td>21.63</td>\n",
              "      <td>0</td>\n",
              "      <td>0</td>\n",
              "      <td>0</td>\n",
              "      <td>15.0</td>\n",
              "      <td>0.0</td>\n",
              "      <td>0</td>\n",
              "      <td>0</td>\n",
              "      <td>70-74</td>\n",
              "      <td>5</td>\n",
              "      <td>0</td>\n",
              "      <td>1</td>\n",
              "      <td>1</td>\n",
              "      <td>4.0</td>\n",
              "      <td>1</td>\n",
              "      <td>0</td>\n",
              "      <td>1</td>\n",
              "    </tr>\n",
              "    <tr>\n",
              "      <th>7</th>\n",
              "      <td>0</td>\n",
              "      <td>31.64</td>\n",
              "      <td>1</td>\n",
              "      <td>0</td>\n",
              "      <td>0</td>\n",
              "      <td>5.0</td>\n",
              "      <td>0.0</td>\n",
              "      <td>1</td>\n",
              "      <td>0</td>\n",
              "      <td>80 or older</td>\n",
              "      <td>5</td>\n",
              "      <td>2</td>\n",
              "      <td>0</td>\n",
              "      <td>2</td>\n",
              "      <td>9.0</td>\n",
              "      <td>1</td>\n",
              "      <td>0</td>\n",
              "      <td>0</td>\n",
              "    </tr>\n",
              "    <tr>\n",
              "      <th>8</th>\n",
              "      <td>0</td>\n",
              "      <td>26.45</td>\n",
              "      <td>0</td>\n",
              "      <td>0</td>\n",
              "      <td>0</td>\n",
              "      <td>0.0</td>\n",
              "      <td>0.0</td>\n",
              "      <td>0</td>\n",
              "      <td>0</td>\n",
              "      <td>80 or older</td>\n",
              "      <td>5</td>\n",
              "      <td>1</td>\n",
              "      <td>0</td>\n",
              "      <td>1</td>\n",
              "      <td>5.0</td>\n",
              "      <td>0</td>\n",
              "      <td>1</td>\n",
              "      <td>0</td>\n",
              "    </tr>\n",
              "    <tr>\n",
              "      <th>9</th>\n",
              "      <td>0</td>\n",
              "      <td>40.69</td>\n",
              "      <td>0</td>\n",
              "      <td>0</td>\n",
              "      <td>0</td>\n",
              "      <td>0.0</td>\n",
              "      <td>0.0</td>\n",
              "      <td>1</td>\n",
              "      <td>1</td>\n",
              "      <td>65-69</td>\n",
              "      <td>5</td>\n",
              "      <td>0</td>\n",
              "      <td>1</td>\n",
              "      <td>2</td>\n",
              "      <td>10.0</td>\n",
              "      <td>0</td>\n",
              "      <td>0</td>\n",
              "      <td>0</td>\n",
              "    </tr>\n",
              "  </tbody>\n",
              "</table>\n",
              "</div>"
            ],
            "text/plain": [
              "   HeartDisease    BMI  Smoking  AlcoholDrinking  Stroke  PhysicalHealth  \\\n",
              "0             0  16.60        1                0       0             3.0   \n",
              "1             0  20.34        0                0       1             0.0   \n",
              "2             0  26.58        1                0       0            20.0   \n",
              "3             0  24.21        0                0       0             0.0   \n",
              "4             0  23.71        0                0       0            28.0   \n",
              "5             1  28.87        1                0       0             6.0   \n",
              "6             0  21.63        0                0       0            15.0   \n",
              "7             0  31.64        1                0       0             5.0   \n",
              "8             0  26.45        0                0       0             0.0   \n",
              "9             0  40.69        0                0       0             0.0   \n",
              "\n",
              "   MentalHealth  DiffWalking  Sex  AgeCategory  Race  Diabetic  \\\n",
              "0          30.0            0    0        55-59     5         2   \n",
              "1           0.0            0    0  80 or older     5         0   \n",
              "2          30.0            0    1        65-69     5         2   \n",
              "3           0.0            0    0        75-79     5         0   \n",
              "4           0.0            1    0        40-44     5         0   \n",
              "5           0.0            1    0        75-79     2         0   \n",
              "6           0.0            0    0        70-74     5         0   \n",
              "7           0.0            1    0  80 or older     5         2   \n",
              "8           0.0            0    0  80 or older     5         1   \n",
              "9           0.0            1    1        65-69     5         0   \n",
              "\n",
              "   PhysicalActivity  GenHealth  SleepTime  Asthma  KidneyDisease  SkinCancer  \n",
              "0                 1          4        5.0       1              0           1  \n",
              "1                 1          4        7.0       0              0           0  \n",
              "2                 1          1        8.0       1              0           0  \n",
              "3                 0          2        6.0       0              0           1  \n",
              "4                 1          4        8.0       0              0           0  \n",
              "5                 0          1       12.0       0              0           0  \n",
              "6                 1          1        4.0       1              0           1  \n",
              "7                 0          2        9.0       1              0           0  \n",
              "8                 0          1        5.0       0              1           0  \n",
              "9                 1          2       10.0       0              0           0  "
            ]
          },
          "execution_count": 10,
          "metadata": {},
          "output_type": "execute_result"
        }
      ],
      "source": [
        "col=['SkinCancer','KidneyDisease','PhysicalActivity','Diabetic','Sex','DiffWalking','Asthma','Stroke','AlcoholDrinking','Smoking','HeartDisease','Race','GenHealth']\n",
        "\n",
        "h1[col] = h1[col].apply(LabelEncoder().fit_transform)\n",
        "\n",
        "h1.head(10)"
      ]
    },
    {
      "cell_type": "code",
      "execution_count": 11,
      "metadata": {
        "colab": {
          "base_uri": "https://localhost:8080/",
          "height": 426
        },
        "id": "EzAZusxijsuB",
        "outputId": "fea7d12d-5977-4b93-8ebb-99068a91c2f4"
      },
      "outputs": [
        {
          "data": {
            "text/html": [
              "<div>\n",
              "<style scoped>\n",
              "    .dataframe tbody tr th:only-of-type {\n",
              "        vertical-align: middle;\n",
              "    }\n",
              "\n",
              "    .dataframe tbody tr th {\n",
              "        vertical-align: top;\n",
              "    }\n",
              "\n",
              "    .dataframe thead th {\n",
              "        text-align: right;\n",
              "    }\n",
              "</style>\n",
              "<table border=\"1\" class=\"dataframe\">\n",
              "  <thead>\n",
              "    <tr style=\"text-align: right;\">\n",
              "      <th></th>\n",
              "      <th>HeartDisease</th>\n",
              "      <th>BMI</th>\n",
              "      <th>Smoking</th>\n",
              "      <th>AlcoholDrinking</th>\n",
              "      <th>Stroke</th>\n",
              "      <th>PhysicalHealth</th>\n",
              "      <th>MentalHealth</th>\n",
              "      <th>DiffWalking</th>\n",
              "      <th>Sex</th>\n",
              "      <th>AgeCategory</th>\n",
              "      <th>Race</th>\n",
              "      <th>Diabetic</th>\n",
              "      <th>PhysicalActivity</th>\n",
              "      <th>GenHealth</th>\n",
              "      <th>SleepTime</th>\n",
              "      <th>Asthma</th>\n",
              "      <th>KidneyDisease</th>\n",
              "      <th>SkinCancer</th>\n",
              "    </tr>\n",
              "  </thead>\n",
              "  <tbody>\n",
              "    <tr>\n",
              "      <th>0</th>\n",
              "      <td>0</td>\n",
              "      <td>16.60</td>\n",
              "      <td>1</td>\n",
              "      <td>0</td>\n",
              "      <td>0</td>\n",
              "      <td>3.0</td>\n",
              "      <td>30.0</td>\n",
              "      <td>0</td>\n",
              "      <td>0</td>\n",
              "      <td>55-59</td>\n",
              "      <td>5</td>\n",
              "      <td>2</td>\n",
              "      <td>1</td>\n",
              "      <td>4</td>\n",
              "      <td>5.0</td>\n",
              "      <td>1</td>\n",
              "      <td>0</td>\n",
              "      <td>1</td>\n",
              "    </tr>\n",
              "    <tr>\n",
              "      <th>1</th>\n",
              "      <td>0</td>\n",
              "      <td>20.34</td>\n",
              "      <td>0</td>\n",
              "      <td>0</td>\n",
              "      <td>1</td>\n",
              "      <td>0.0</td>\n",
              "      <td>0.0</td>\n",
              "      <td>0</td>\n",
              "      <td>0</td>\n",
              "      <td>80-95</td>\n",
              "      <td>5</td>\n",
              "      <td>0</td>\n",
              "      <td>1</td>\n",
              "      <td>4</td>\n",
              "      <td>7.0</td>\n",
              "      <td>0</td>\n",
              "      <td>0</td>\n",
              "      <td>0</td>\n",
              "    </tr>\n",
              "    <tr>\n",
              "      <th>2</th>\n",
              "      <td>0</td>\n",
              "      <td>26.58</td>\n",
              "      <td>1</td>\n",
              "      <td>0</td>\n",
              "      <td>0</td>\n",
              "      <td>20.0</td>\n",
              "      <td>30.0</td>\n",
              "      <td>0</td>\n",
              "      <td>1</td>\n",
              "      <td>65-69</td>\n",
              "      <td>5</td>\n",
              "      <td>2</td>\n",
              "      <td>1</td>\n",
              "      <td>1</td>\n",
              "      <td>8.0</td>\n",
              "      <td>1</td>\n",
              "      <td>0</td>\n",
              "      <td>0</td>\n",
              "    </tr>\n",
              "    <tr>\n",
              "      <th>3</th>\n",
              "      <td>0</td>\n",
              "      <td>24.21</td>\n",
              "      <td>0</td>\n",
              "      <td>0</td>\n",
              "      <td>0</td>\n",
              "      <td>0.0</td>\n",
              "      <td>0.0</td>\n",
              "      <td>0</td>\n",
              "      <td>0</td>\n",
              "      <td>75-79</td>\n",
              "      <td>5</td>\n",
              "      <td>0</td>\n",
              "      <td>0</td>\n",
              "      <td>2</td>\n",
              "      <td>6.0</td>\n",
              "      <td>0</td>\n",
              "      <td>0</td>\n",
              "      <td>1</td>\n",
              "    </tr>\n",
              "    <tr>\n",
              "      <th>4</th>\n",
              "      <td>0</td>\n",
              "      <td>23.71</td>\n",
              "      <td>0</td>\n",
              "      <td>0</td>\n",
              "      <td>0</td>\n",
              "      <td>28.0</td>\n",
              "      <td>0.0</td>\n",
              "      <td>1</td>\n",
              "      <td>0</td>\n",
              "      <td>40-44</td>\n",
              "      <td>5</td>\n",
              "      <td>0</td>\n",
              "      <td>1</td>\n",
              "      <td>4</td>\n",
              "      <td>8.0</td>\n",
              "      <td>0</td>\n",
              "      <td>0</td>\n",
              "      <td>0</td>\n",
              "    </tr>\n",
              "    <tr>\n",
              "      <th>5</th>\n",
              "      <td>1</td>\n",
              "      <td>28.87</td>\n",
              "      <td>1</td>\n",
              "      <td>0</td>\n",
              "      <td>0</td>\n",
              "      <td>6.0</td>\n",
              "      <td>0.0</td>\n",
              "      <td>1</td>\n",
              "      <td>0</td>\n",
              "      <td>75-79</td>\n",
              "      <td>2</td>\n",
              "      <td>0</td>\n",
              "      <td>0</td>\n",
              "      <td>1</td>\n",
              "      <td>12.0</td>\n",
              "      <td>0</td>\n",
              "      <td>0</td>\n",
              "      <td>0</td>\n",
              "    </tr>\n",
              "    <tr>\n",
              "      <th>6</th>\n",
              "      <td>0</td>\n",
              "      <td>21.63</td>\n",
              "      <td>0</td>\n",
              "      <td>0</td>\n",
              "      <td>0</td>\n",
              "      <td>15.0</td>\n",
              "      <td>0.0</td>\n",
              "      <td>0</td>\n",
              "      <td>0</td>\n",
              "      <td>70-74</td>\n",
              "      <td>5</td>\n",
              "      <td>0</td>\n",
              "      <td>1</td>\n",
              "      <td>1</td>\n",
              "      <td>4.0</td>\n",
              "      <td>1</td>\n",
              "      <td>0</td>\n",
              "      <td>1</td>\n",
              "    </tr>\n",
              "    <tr>\n",
              "      <th>7</th>\n",
              "      <td>0</td>\n",
              "      <td>31.64</td>\n",
              "      <td>1</td>\n",
              "      <td>0</td>\n",
              "      <td>0</td>\n",
              "      <td>5.0</td>\n",
              "      <td>0.0</td>\n",
              "      <td>1</td>\n",
              "      <td>0</td>\n",
              "      <td>80-95</td>\n",
              "      <td>5</td>\n",
              "      <td>2</td>\n",
              "      <td>0</td>\n",
              "      <td>2</td>\n",
              "      <td>9.0</td>\n",
              "      <td>1</td>\n",
              "      <td>0</td>\n",
              "      <td>0</td>\n",
              "    </tr>\n",
              "    <tr>\n",
              "      <th>8</th>\n",
              "      <td>0</td>\n",
              "      <td>26.45</td>\n",
              "      <td>0</td>\n",
              "      <td>0</td>\n",
              "      <td>0</td>\n",
              "      <td>0.0</td>\n",
              "      <td>0.0</td>\n",
              "      <td>0</td>\n",
              "      <td>0</td>\n",
              "      <td>80-95</td>\n",
              "      <td>5</td>\n",
              "      <td>1</td>\n",
              "      <td>0</td>\n",
              "      <td>1</td>\n",
              "      <td>5.0</td>\n",
              "      <td>0</td>\n",
              "      <td>1</td>\n",
              "      <td>0</td>\n",
              "    </tr>\n",
              "    <tr>\n",
              "      <th>9</th>\n",
              "      <td>0</td>\n",
              "      <td>40.69</td>\n",
              "      <td>0</td>\n",
              "      <td>0</td>\n",
              "      <td>0</td>\n",
              "      <td>0.0</td>\n",
              "      <td>0.0</td>\n",
              "      <td>1</td>\n",
              "      <td>1</td>\n",
              "      <td>65-69</td>\n",
              "      <td>5</td>\n",
              "      <td>0</td>\n",
              "      <td>1</td>\n",
              "      <td>2</td>\n",
              "      <td>10.0</td>\n",
              "      <td>0</td>\n",
              "      <td>0</td>\n",
              "      <td>0</td>\n",
              "    </tr>\n",
              "  </tbody>\n",
              "</table>\n",
              "</div>"
            ],
            "text/plain": [
              "   HeartDisease    BMI  Smoking  AlcoholDrinking  Stroke  PhysicalHealth  \\\n",
              "0             0  16.60        1                0       0             3.0   \n",
              "1             0  20.34        0                0       1             0.0   \n",
              "2             0  26.58        1                0       0            20.0   \n",
              "3             0  24.21        0                0       0             0.0   \n",
              "4             0  23.71        0                0       0            28.0   \n",
              "5             1  28.87        1                0       0             6.0   \n",
              "6             0  21.63        0                0       0            15.0   \n",
              "7             0  31.64        1                0       0             5.0   \n",
              "8             0  26.45        0                0       0             0.0   \n",
              "9             0  40.69        0                0       0             0.0   \n",
              "\n",
              "   MentalHealth  DiffWalking  Sex AgeCategory  Race  Diabetic  \\\n",
              "0          30.0            0    0       55-59     5         2   \n",
              "1           0.0            0    0       80-95     5         0   \n",
              "2          30.0            0    1       65-69     5         2   \n",
              "3           0.0            0    0       75-79     5         0   \n",
              "4           0.0            1    0       40-44     5         0   \n",
              "5           0.0            1    0       75-79     2         0   \n",
              "6           0.0            0    0       70-74     5         0   \n",
              "7           0.0            1    0       80-95     5         2   \n",
              "8           0.0            0    0       80-95     5         1   \n",
              "9           0.0            1    1       65-69     5         0   \n",
              "\n",
              "   PhysicalActivity  GenHealth  SleepTime  Asthma  KidneyDisease  SkinCancer  \n",
              "0                 1          4        5.0       1              0           1  \n",
              "1                 1          4        7.0       0              0           0  \n",
              "2                 1          1        8.0       1              0           0  \n",
              "3                 0          2        6.0       0              0           1  \n",
              "4                 1          4        8.0       0              0           0  \n",
              "5                 0          1       12.0       0              0           0  \n",
              "6                 1          1        4.0       1              0           1  \n",
              "7                 0          2        9.0       1              0           0  \n",
              "8                 0          1        5.0       0              1           0  \n",
              "9                 1          2       10.0       0              0           0  "
            ]
          },
          "execution_count": 11,
          "metadata": {},
          "output_type": "execute_result"
        }
      ],
      "source": [
        "h1['AgeCategory'] = h1['AgeCategory'].replace(['80 or older'],'80-95')\n",
        "h1.head(10)"
      ]
    },
    {
      "cell_type": "code",
      "execution_count": 12,
      "metadata": {
        "colab": {
          "base_uri": "https://localhost:8080/"
        },
        "id": "AZNa_xgLy_dI",
        "outputId": "3555d9be-112b-41af-b6eb-17c88623c6e7"
      },
      "outputs": [
        {
          "data": {
            "text/plain": [
              "319795"
            ]
          },
          "execution_count": 12,
          "metadata": {},
          "output_type": "execute_result"
        }
      ],
      "source": [
        "l=h1.AgeCategory.str.split('-').str[0].tolist()\n",
        "m=h1.AgeCategory.str.split('-').str[1].tolist()\n",
        "\n",
        "o=[(int(g) + int(h)) / 2 for g, h in zip(l, m)]\n",
        "len(o)"
      ]
    },
    {
      "cell_type": "code",
      "execution_count": 13,
      "metadata": {
        "id": "gy-hkW7k0ViV"
      },
      "outputs": [],
      "source": [
        "h1['AgeCategory']=o"
      ]
    },
    {
      "cell_type": "code",
      "execution_count": 14,
      "metadata": {
        "colab": {
          "base_uri": "https://localhost:8080/",
          "height": 426
        },
        "id": "SLL8FRYz3juZ",
        "outputId": "d3e1ad84-507d-418d-d5a3-979b9532986d"
      },
      "outputs": [
        {
          "data": {
            "text/html": [
              "<div>\n",
              "<style scoped>\n",
              "    .dataframe tbody tr th:only-of-type {\n",
              "        vertical-align: middle;\n",
              "    }\n",
              "\n",
              "    .dataframe tbody tr th {\n",
              "        vertical-align: top;\n",
              "    }\n",
              "\n",
              "    .dataframe thead th {\n",
              "        text-align: right;\n",
              "    }\n",
              "</style>\n",
              "<table border=\"1\" class=\"dataframe\">\n",
              "  <thead>\n",
              "    <tr style=\"text-align: right;\">\n",
              "      <th></th>\n",
              "      <th>HeartDisease</th>\n",
              "      <th>BMI</th>\n",
              "      <th>Smoking</th>\n",
              "      <th>AlcoholDrinking</th>\n",
              "      <th>Stroke</th>\n",
              "      <th>PhysicalHealth</th>\n",
              "      <th>MentalHealth</th>\n",
              "      <th>DiffWalking</th>\n",
              "      <th>Sex</th>\n",
              "      <th>AgeCategory</th>\n",
              "      <th>Race</th>\n",
              "      <th>Diabetic</th>\n",
              "      <th>PhysicalActivity</th>\n",
              "      <th>GenHealth</th>\n",
              "      <th>SleepTime</th>\n",
              "      <th>Asthma</th>\n",
              "      <th>KidneyDisease</th>\n",
              "      <th>SkinCancer</th>\n",
              "    </tr>\n",
              "  </thead>\n",
              "  <tbody>\n",
              "    <tr>\n",
              "      <th>0</th>\n",
              "      <td>0</td>\n",
              "      <td>16.60</td>\n",
              "      <td>1</td>\n",
              "      <td>0</td>\n",
              "      <td>0</td>\n",
              "      <td>3.0</td>\n",
              "      <td>30.0</td>\n",
              "      <td>0</td>\n",
              "      <td>0</td>\n",
              "      <td>57.0</td>\n",
              "      <td>5</td>\n",
              "      <td>2</td>\n",
              "      <td>1</td>\n",
              "      <td>4</td>\n",
              "      <td>5.0</td>\n",
              "      <td>1</td>\n",
              "      <td>0</td>\n",
              "      <td>1</td>\n",
              "    </tr>\n",
              "    <tr>\n",
              "      <th>1</th>\n",
              "      <td>0</td>\n",
              "      <td>20.34</td>\n",
              "      <td>0</td>\n",
              "      <td>0</td>\n",
              "      <td>1</td>\n",
              "      <td>0.0</td>\n",
              "      <td>0.0</td>\n",
              "      <td>0</td>\n",
              "      <td>0</td>\n",
              "      <td>87.5</td>\n",
              "      <td>5</td>\n",
              "      <td>0</td>\n",
              "      <td>1</td>\n",
              "      <td>4</td>\n",
              "      <td>7.0</td>\n",
              "      <td>0</td>\n",
              "      <td>0</td>\n",
              "      <td>0</td>\n",
              "    </tr>\n",
              "    <tr>\n",
              "      <th>2</th>\n",
              "      <td>0</td>\n",
              "      <td>26.58</td>\n",
              "      <td>1</td>\n",
              "      <td>0</td>\n",
              "      <td>0</td>\n",
              "      <td>20.0</td>\n",
              "      <td>30.0</td>\n",
              "      <td>0</td>\n",
              "      <td>1</td>\n",
              "      <td>67.0</td>\n",
              "      <td>5</td>\n",
              "      <td>2</td>\n",
              "      <td>1</td>\n",
              "      <td>1</td>\n",
              "      <td>8.0</td>\n",
              "      <td>1</td>\n",
              "      <td>0</td>\n",
              "      <td>0</td>\n",
              "    </tr>\n",
              "    <tr>\n",
              "      <th>3</th>\n",
              "      <td>0</td>\n",
              "      <td>24.21</td>\n",
              "      <td>0</td>\n",
              "      <td>0</td>\n",
              "      <td>0</td>\n",
              "      <td>0.0</td>\n",
              "      <td>0.0</td>\n",
              "      <td>0</td>\n",
              "      <td>0</td>\n",
              "      <td>77.0</td>\n",
              "      <td>5</td>\n",
              "      <td>0</td>\n",
              "      <td>0</td>\n",
              "      <td>2</td>\n",
              "      <td>6.0</td>\n",
              "      <td>0</td>\n",
              "      <td>0</td>\n",
              "      <td>1</td>\n",
              "    </tr>\n",
              "    <tr>\n",
              "      <th>4</th>\n",
              "      <td>0</td>\n",
              "      <td>23.71</td>\n",
              "      <td>0</td>\n",
              "      <td>0</td>\n",
              "      <td>0</td>\n",
              "      <td>28.0</td>\n",
              "      <td>0.0</td>\n",
              "      <td>1</td>\n",
              "      <td>0</td>\n",
              "      <td>42.0</td>\n",
              "      <td>5</td>\n",
              "      <td>0</td>\n",
              "      <td>1</td>\n",
              "      <td>4</td>\n",
              "      <td>8.0</td>\n",
              "      <td>0</td>\n",
              "      <td>0</td>\n",
              "      <td>0</td>\n",
              "    </tr>\n",
              "    <tr>\n",
              "      <th>5</th>\n",
              "      <td>1</td>\n",
              "      <td>28.87</td>\n",
              "      <td>1</td>\n",
              "      <td>0</td>\n",
              "      <td>0</td>\n",
              "      <td>6.0</td>\n",
              "      <td>0.0</td>\n",
              "      <td>1</td>\n",
              "      <td>0</td>\n",
              "      <td>77.0</td>\n",
              "      <td>2</td>\n",
              "      <td>0</td>\n",
              "      <td>0</td>\n",
              "      <td>1</td>\n",
              "      <td>12.0</td>\n",
              "      <td>0</td>\n",
              "      <td>0</td>\n",
              "      <td>0</td>\n",
              "    </tr>\n",
              "    <tr>\n",
              "      <th>6</th>\n",
              "      <td>0</td>\n",
              "      <td>21.63</td>\n",
              "      <td>0</td>\n",
              "      <td>0</td>\n",
              "      <td>0</td>\n",
              "      <td>15.0</td>\n",
              "      <td>0.0</td>\n",
              "      <td>0</td>\n",
              "      <td>0</td>\n",
              "      <td>72.0</td>\n",
              "      <td>5</td>\n",
              "      <td>0</td>\n",
              "      <td>1</td>\n",
              "      <td>1</td>\n",
              "      <td>4.0</td>\n",
              "      <td>1</td>\n",
              "      <td>0</td>\n",
              "      <td>1</td>\n",
              "    </tr>\n",
              "    <tr>\n",
              "      <th>7</th>\n",
              "      <td>0</td>\n",
              "      <td>31.64</td>\n",
              "      <td>1</td>\n",
              "      <td>0</td>\n",
              "      <td>0</td>\n",
              "      <td>5.0</td>\n",
              "      <td>0.0</td>\n",
              "      <td>1</td>\n",
              "      <td>0</td>\n",
              "      <td>87.5</td>\n",
              "      <td>5</td>\n",
              "      <td>2</td>\n",
              "      <td>0</td>\n",
              "      <td>2</td>\n",
              "      <td>9.0</td>\n",
              "      <td>1</td>\n",
              "      <td>0</td>\n",
              "      <td>0</td>\n",
              "    </tr>\n",
              "    <tr>\n",
              "      <th>8</th>\n",
              "      <td>0</td>\n",
              "      <td>26.45</td>\n",
              "      <td>0</td>\n",
              "      <td>0</td>\n",
              "      <td>0</td>\n",
              "      <td>0.0</td>\n",
              "      <td>0.0</td>\n",
              "      <td>0</td>\n",
              "      <td>0</td>\n",
              "      <td>87.5</td>\n",
              "      <td>5</td>\n",
              "      <td>1</td>\n",
              "      <td>0</td>\n",
              "      <td>1</td>\n",
              "      <td>5.0</td>\n",
              "      <td>0</td>\n",
              "      <td>1</td>\n",
              "      <td>0</td>\n",
              "    </tr>\n",
              "    <tr>\n",
              "      <th>9</th>\n",
              "      <td>0</td>\n",
              "      <td>40.69</td>\n",
              "      <td>0</td>\n",
              "      <td>0</td>\n",
              "      <td>0</td>\n",
              "      <td>0.0</td>\n",
              "      <td>0.0</td>\n",
              "      <td>1</td>\n",
              "      <td>1</td>\n",
              "      <td>67.0</td>\n",
              "      <td>5</td>\n",
              "      <td>0</td>\n",
              "      <td>1</td>\n",
              "      <td>2</td>\n",
              "      <td>10.0</td>\n",
              "      <td>0</td>\n",
              "      <td>0</td>\n",
              "      <td>0</td>\n",
              "    </tr>\n",
              "  </tbody>\n",
              "</table>\n",
              "</div>"
            ],
            "text/plain": [
              "   HeartDisease    BMI  Smoking  AlcoholDrinking  Stroke  PhysicalHealth  \\\n",
              "0             0  16.60        1                0       0             3.0   \n",
              "1             0  20.34        0                0       1             0.0   \n",
              "2             0  26.58        1                0       0            20.0   \n",
              "3             0  24.21        0                0       0             0.0   \n",
              "4             0  23.71        0                0       0            28.0   \n",
              "5             1  28.87        1                0       0             6.0   \n",
              "6             0  21.63        0                0       0            15.0   \n",
              "7             0  31.64        1                0       0             5.0   \n",
              "8             0  26.45        0                0       0             0.0   \n",
              "9             0  40.69        0                0       0             0.0   \n",
              "\n",
              "   MentalHealth  DiffWalking  Sex  AgeCategory  Race  Diabetic  \\\n",
              "0          30.0            0    0         57.0     5         2   \n",
              "1           0.0            0    0         87.5     5         0   \n",
              "2          30.0            0    1         67.0     5         2   \n",
              "3           0.0            0    0         77.0     5         0   \n",
              "4           0.0            1    0         42.0     5         0   \n",
              "5           0.0            1    0         77.0     2         0   \n",
              "6           0.0            0    0         72.0     5         0   \n",
              "7           0.0            1    0         87.5     5         2   \n",
              "8           0.0            0    0         87.5     5         1   \n",
              "9           0.0            1    1         67.0     5         0   \n",
              "\n",
              "   PhysicalActivity  GenHealth  SleepTime  Asthma  KidneyDisease  SkinCancer  \n",
              "0                 1          4        5.0       1              0           1  \n",
              "1                 1          4        7.0       0              0           0  \n",
              "2                 1          1        8.0       1              0           0  \n",
              "3                 0          2        6.0       0              0           1  \n",
              "4                 1          4        8.0       0              0           0  \n",
              "5                 0          1       12.0       0              0           0  \n",
              "6                 1          1        4.0       1              0           1  \n",
              "7                 0          2        9.0       1              0           0  \n",
              "8                 0          1        5.0       0              1           0  \n",
              "9                 1          2       10.0       0              0           0  "
            ]
          },
          "execution_count": 14,
          "metadata": {},
          "output_type": "execute_result"
        }
      ],
      "source": [
        "h1.head(10)"
      ]
    },
    {
      "cell_type": "code",
      "execution_count": 15,
      "metadata": {
        "colab": {
          "base_uri": "https://localhost:8080/"
        },
        "id": "PXsUU91-3pFq",
        "outputId": "ffb70461-c30f-48f6-aa03-567cd80760be"
      },
      "outputs": [
        {
          "name": "stdout",
          "output_type": "stream",
          "text": [
            "<class 'pandas.core.frame.DataFrame'>\n",
            "Int64Index: 319795 entries, 0 to 319794\n",
            "Data columns (total 18 columns):\n",
            " #   Column            Non-Null Count   Dtype  \n",
            "---  ------            --------------   -----  \n",
            " 0   HeartDisease      319795 non-null  int32  \n",
            " 1   BMI               319795 non-null  float64\n",
            " 2   Smoking           319795 non-null  int32  \n",
            " 3   AlcoholDrinking   319795 non-null  int32  \n",
            " 4   Stroke            319795 non-null  int32  \n",
            " 5   PhysicalHealth    319795 non-null  float64\n",
            " 6   MentalHealth      319795 non-null  float64\n",
            " 7   DiffWalking       319795 non-null  int32  \n",
            " 8   Sex               319795 non-null  int32  \n",
            " 9   AgeCategory       319795 non-null  float64\n",
            " 10  Race              319795 non-null  int32  \n",
            " 11  Diabetic          319795 non-null  int32  \n",
            " 12  PhysicalActivity  319795 non-null  int32  \n",
            " 13  GenHealth         319795 non-null  int32  \n",
            " 14  SleepTime         319795 non-null  float64\n",
            " 15  Asthma            319795 non-null  int32  \n",
            " 16  KidneyDisease     319795 non-null  int32  \n",
            " 17  SkinCancer        319795 non-null  int32  \n",
            "dtypes: float64(5), int32(13)\n",
            "memory usage: 30.5 MB\n"
          ]
        }
      ],
      "source": [
        "h1.info()"
      ]
    },
    {
      "cell_type": "markdown",
      "metadata": {
        "id": "PEZtahbevxHz"
      },
      "source": [
        "FEATURE SELECTION"
      ]
    },
    {
      "cell_type": "code",
      "execution_count": 16,
      "metadata": {
        "colab": {
          "base_uri": "https://localhost:8080/",
          "height": 677
        },
        "id": "SijP234Cq2or",
        "outputId": "9946e83c-00cf-427a-c77b-e2428e67a9cb"
      },
      "outputs": [
        {
          "data": {
            "text/html": [
              "<div>\n",
              "<style scoped>\n",
              "    .dataframe tbody tr th:only-of-type {\n",
              "        vertical-align: middle;\n",
              "    }\n",
              "\n",
              "    .dataframe tbody tr th {\n",
              "        vertical-align: top;\n",
              "    }\n",
              "\n",
              "    .dataframe thead th {\n",
              "        text-align: right;\n",
              "    }\n",
              "</style>\n",
              "<table border=\"1\" class=\"dataframe\">\n",
              "  <thead>\n",
              "    <tr style=\"text-align: right;\">\n",
              "      <th></th>\n",
              "      <th>HeartDisease</th>\n",
              "      <th>BMI</th>\n",
              "      <th>Smoking</th>\n",
              "      <th>AlcoholDrinking</th>\n",
              "      <th>Stroke</th>\n",
              "      <th>PhysicalHealth</th>\n",
              "      <th>MentalHealth</th>\n",
              "      <th>DiffWalking</th>\n",
              "      <th>Sex</th>\n",
              "      <th>AgeCategory</th>\n",
              "      <th>Race</th>\n",
              "      <th>Diabetic</th>\n",
              "      <th>PhysicalActivity</th>\n",
              "      <th>GenHealth</th>\n",
              "      <th>SleepTime</th>\n",
              "      <th>Asthma</th>\n",
              "      <th>KidneyDisease</th>\n",
              "      <th>SkinCancer</th>\n",
              "    </tr>\n",
              "  </thead>\n",
              "  <tbody>\n",
              "    <tr>\n",
              "      <th>HeartDisease</th>\n",
              "      <td>1.000000</td>\n",
              "      <td>0.051803</td>\n",
              "      <td>0.107764</td>\n",
              "      <td>-0.032080</td>\n",
              "      <td>0.196835</td>\n",
              "      <td>0.170721</td>\n",
              "      <td>0.028591</td>\n",
              "      <td>0.201258</td>\n",
              "      <td>0.070040</td>\n",
              "      <td>0.235521</td>\n",
              "      <td>0.034854</td>\n",
              "      <td>0.168553</td>\n",
              "      <td>-0.100030</td>\n",
              "      <td>-0.011062</td>\n",
              "      <td>0.008327</td>\n",
              "      <td>0.041444</td>\n",
              "      <td>0.145197</td>\n",
              "      <td>0.093317</td>\n",
              "    </tr>\n",
              "    <tr>\n",
              "      <th>BMI</th>\n",
              "      <td>0.051803</td>\n",
              "      <td>1.000000</td>\n",
              "      <td>0.023118</td>\n",
              "      <td>-0.038816</td>\n",
              "      <td>0.019733</td>\n",
              "      <td>0.109788</td>\n",
              "      <td>0.064131</td>\n",
              "      <td>0.181678</td>\n",
              "      <td>0.026940</td>\n",
              "      <td>-0.010508</td>\n",
              "      <td>-0.037424</td>\n",
              "      <td>0.202472</td>\n",
              "      <td>-0.150616</td>\n",
              "      <td>0.035932</td>\n",
              "      <td>-0.051822</td>\n",
              "      <td>0.092345</td>\n",
              "      <td>0.050768</td>\n",
              "      <td>-0.033644</td>\n",
              "    </tr>\n",
              "    <tr>\n",
              "      <th>Smoking</th>\n",
              "      <td>0.107764</td>\n",
              "      <td>0.023118</td>\n",
              "      <td>1.000000</td>\n",
              "      <td>0.111768</td>\n",
              "      <td>0.061226</td>\n",
              "      <td>0.115352</td>\n",
              "      <td>0.085157</td>\n",
              "      <td>0.120074</td>\n",
              "      <td>0.085052</td>\n",
              "      <td>0.125694</td>\n",
              "      <td>0.065499</td>\n",
              "      <td>0.053847</td>\n",
              "      <td>-0.097174</td>\n",
              "      <td>0.020625</td>\n",
              "      <td>-0.030336</td>\n",
              "      <td>0.024149</td>\n",
              "      <td>0.034920</td>\n",
              "      <td>0.033977</td>\n",
              "    </tr>\n",
              "    <tr>\n",
              "      <th>AlcoholDrinking</th>\n",
              "      <td>-0.032080</td>\n",
              "      <td>-0.038816</td>\n",
              "      <td>0.111768</td>\n",
              "      <td>1.000000</td>\n",
              "      <td>-0.019858</td>\n",
              "      <td>-0.017254</td>\n",
              "      <td>0.051282</td>\n",
              "      <td>-0.035328</td>\n",
              "      <td>0.004200</td>\n",
              "      <td>-0.060545</td>\n",
              "      <td>0.036702</td>\n",
              "      <td>-0.057372</td>\n",
              "      <td>0.017487</td>\n",
              "      <td>0.001629</td>\n",
              "      <td>-0.005065</td>\n",
              "      <td>-0.002202</td>\n",
              "      <td>-0.028280</td>\n",
              "      <td>-0.005702</td>\n",
              "    </tr>\n",
              "    <tr>\n",
              "      <th>Stroke</th>\n",
              "      <td>0.196835</td>\n",
              "      <td>0.019733</td>\n",
              "      <td>0.061226</td>\n",
              "      <td>-0.019858</td>\n",
              "      <td>1.000000</td>\n",
              "      <td>0.137014</td>\n",
              "      <td>0.046467</td>\n",
              "      <td>0.174143</td>\n",
              "      <td>-0.003091</td>\n",
              "      <td>0.139238</td>\n",
              "      <td>-0.003956</td>\n",
              "      <td>0.101518</td>\n",
              "      <td>-0.079455</td>\n",
              "      <td>-0.009335</td>\n",
              "      <td>0.011900</td>\n",
              "      <td>0.038866</td>\n",
              "      <td>0.091167</td>\n",
              "      <td>0.048116</td>\n",
              "    </tr>\n",
              "    <tr>\n",
              "      <th>PhysicalHealth</th>\n",
              "      <td>0.170721</td>\n",
              "      <td>0.109788</td>\n",
              "      <td>0.115352</td>\n",
              "      <td>-0.017254</td>\n",
              "      <td>0.137014</td>\n",
              "      <td>1.000000</td>\n",
              "      <td>0.287987</td>\n",
              "      <td>0.428373</td>\n",
              "      <td>-0.040904</td>\n",
              "      <td>0.109818</td>\n",
              "      <td>-0.000847</td>\n",
              "      <td>0.151361</td>\n",
              "      <td>-0.232283</td>\n",
              "      <td>-0.035703</td>\n",
              "      <td>-0.061387</td>\n",
              "      <td>0.117907</td>\n",
              "      <td>0.142197</td>\n",
              "      <td>0.041700</td>\n",
              "    </tr>\n",
              "    <tr>\n",
              "      <th>MentalHealth</th>\n",
              "      <td>0.028591</td>\n",
              "      <td>0.064131</td>\n",
              "      <td>0.085157</td>\n",
              "      <td>0.051282</td>\n",
              "      <td>0.046467</td>\n",
              "      <td>0.287987</td>\n",
              "      <td>1.000000</td>\n",
              "      <td>0.152235</td>\n",
              "      <td>-0.100058</td>\n",
              "      <td>-0.155391</td>\n",
              "      <td>-0.014491</td>\n",
              "      <td>0.032945</td>\n",
              "      <td>-0.095808</td>\n",
              "      <td>-0.004412</td>\n",
              "      <td>-0.119717</td>\n",
              "      <td>0.114008</td>\n",
              "      <td>0.037281</td>\n",
              "      <td>-0.033412</td>\n",
              "    </tr>\n",
              "    <tr>\n",
              "      <th>DiffWalking</th>\n",
              "      <td>0.201258</td>\n",
              "      <td>0.181678</td>\n",
              "      <td>0.120074</td>\n",
              "      <td>-0.035328</td>\n",
              "      <td>0.174143</td>\n",
              "      <td>0.428373</td>\n",
              "      <td>0.152235</td>\n",
              "      <td>1.000000</td>\n",
              "      <td>-0.068860</td>\n",
              "      <td>0.246269</td>\n",
              "      <td>-0.015831</td>\n",
              "      <td>0.205502</td>\n",
              "      <td>-0.278524</td>\n",
              "      <td>-0.043552</td>\n",
              "      <td>-0.022216</td>\n",
              "      <td>0.103222</td>\n",
              "      <td>0.153064</td>\n",
              "      <td>0.064840</td>\n",
              "    </tr>\n",
              "    <tr>\n",
              "      <th>Sex</th>\n",
              "      <td>0.070040</td>\n",
              "      <td>0.026940</td>\n",
              "      <td>0.085052</td>\n",
              "      <td>0.004200</td>\n",
              "      <td>-0.003091</td>\n",
              "      <td>-0.040904</td>\n",
              "      <td>-0.100058</td>\n",
              "      <td>-0.068860</td>\n",
              "      <td>1.000000</td>\n",
              "      <td>-0.068886</td>\n",
              "      <td>0.018855</td>\n",
              "      <td>-0.013456</td>\n",
              "      <td>0.048247</td>\n",
              "      <td>-0.010283</td>\n",
              "      <td>-0.015704</td>\n",
              "      <td>-0.069191</td>\n",
              "      <td>-0.009084</td>\n",
              "      <td>0.013434</td>\n",
              "    </tr>\n",
              "    <tr>\n",
              "      <th>AgeCategory</th>\n",
              "      <td>0.235521</td>\n",
              "      <td>-0.010508</td>\n",
              "      <td>0.125694</td>\n",
              "      <td>-0.060545</td>\n",
              "      <td>0.139238</td>\n",
              "      <td>0.109818</td>\n",
              "      <td>-0.155391</td>\n",
              "      <td>0.246269</td>\n",
              "      <td>-0.068886</td>\n",
              "      <td>1.000000</td>\n",
              "      <td>0.162573</td>\n",
              "      <td>0.190010</td>\n",
              "      <td>-0.124350</td>\n",
              "      <td>0.043719</td>\n",
              "      <td>0.107094</td>\n",
              "      <td>-0.058736</td>\n",
              "      <td>0.123728</td>\n",
              "      <td>0.265904</td>\n",
              "    </tr>\n",
              "    <tr>\n",
              "      <th>Race</th>\n",
              "      <td>0.034854</td>\n",
              "      <td>-0.037424</td>\n",
              "      <td>0.065499</td>\n",
              "      <td>0.036702</td>\n",
              "      <td>-0.003956</td>\n",
              "      <td>-0.000847</td>\n",
              "      <td>-0.014491</td>\n",
              "      <td>-0.015831</td>\n",
              "      <td>0.018855</td>\n",
              "      <td>0.162573</td>\n",
              "      <td>1.000000</td>\n",
              "      <td>-0.052216</td>\n",
              "      <td>0.056767</td>\n",
              "      <td>0.050344</td>\n",
              "      <td>0.035889</td>\n",
              "      <td>-0.017975</td>\n",
              "      <td>0.003709</td>\n",
              "      <td>0.134780</td>\n",
              "    </tr>\n",
              "    <tr>\n",
              "      <th>Diabetic</th>\n",
              "      <td>0.168553</td>\n",
              "      <td>0.202472</td>\n",
              "      <td>0.053847</td>\n",
              "      <td>-0.057372</td>\n",
              "      <td>0.101518</td>\n",
              "      <td>0.151361</td>\n",
              "      <td>0.032945</td>\n",
              "      <td>0.205502</td>\n",
              "      <td>-0.013456</td>\n",
              "      <td>0.190010</td>\n",
              "      <td>-0.052216</td>\n",
              "      <td>1.000000</td>\n",
              "      <td>-0.133824</td>\n",
              "      <td>-0.010854</td>\n",
              "      <td>0.000449</td>\n",
              "      <td>0.049827</td>\n",
              "      <td>0.142917</td>\n",
              "      <td>0.032523</td>\n",
              "    </tr>\n",
              "    <tr>\n",
              "      <th>PhysicalActivity</th>\n",
              "      <td>-0.100030</td>\n",
              "      <td>-0.150616</td>\n",
              "      <td>-0.097174</td>\n",
              "      <td>0.017487</td>\n",
              "      <td>-0.079455</td>\n",
              "      <td>-0.232283</td>\n",
              "      <td>-0.095808</td>\n",
              "      <td>-0.278524</td>\n",
              "      <td>0.048247</td>\n",
              "      <td>-0.124350</td>\n",
              "      <td>0.056767</td>\n",
              "      <td>-0.133824</td>\n",
              "      <td>1.000000</td>\n",
              "      <td>0.024418</td>\n",
              "      <td>0.003849</td>\n",
              "      <td>-0.041526</td>\n",
              "      <td>-0.081827</td>\n",
              "      <td>-0.001328</td>\n",
              "    </tr>\n",
              "    <tr>\n",
              "      <th>GenHealth</th>\n",
              "      <td>-0.011062</td>\n",
              "      <td>0.035932</td>\n",
              "      <td>0.020625</td>\n",
              "      <td>0.001629</td>\n",
              "      <td>-0.009335</td>\n",
              "      <td>-0.035703</td>\n",
              "      <td>-0.004412</td>\n",
              "      <td>-0.043552</td>\n",
              "      <td>-0.010283</td>\n",
              "      <td>0.043719</td>\n",
              "      <td>0.050344</td>\n",
              "      <td>-0.010854</td>\n",
              "      <td>0.024418</td>\n",
              "      <td>1.000000</td>\n",
              "      <td>-0.004163</td>\n",
              "      <td>0.007280</td>\n",
              "      <td>-0.010580</td>\n",
              "      <td>0.018982</td>\n",
              "    </tr>\n",
              "    <tr>\n",
              "      <th>SleepTime</th>\n",
              "      <td>0.008327</td>\n",
              "      <td>-0.051822</td>\n",
              "      <td>-0.030336</td>\n",
              "      <td>-0.005065</td>\n",
              "      <td>0.011900</td>\n",
              "      <td>-0.061387</td>\n",
              "      <td>-0.119717</td>\n",
              "      <td>-0.022216</td>\n",
              "      <td>-0.015704</td>\n",
              "      <td>0.107094</td>\n",
              "      <td>0.035889</td>\n",
              "      <td>0.000449</td>\n",
              "      <td>0.003849</td>\n",
              "      <td>-0.004163</td>\n",
              "      <td>1.000000</td>\n",
              "      <td>-0.048245</td>\n",
              "      <td>0.006238</td>\n",
              "      <td>0.041266</td>\n",
              "    </tr>\n",
              "    <tr>\n",
              "      <th>Asthma</th>\n",
              "      <td>0.041444</td>\n",
              "      <td>0.092345</td>\n",
              "      <td>0.024149</td>\n",
              "      <td>-0.002202</td>\n",
              "      <td>0.038866</td>\n",
              "      <td>0.117907</td>\n",
              "      <td>0.114008</td>\n",
              "      <td>0.103222</td>\n",
              "      <td>-0.069191</td>\n",
              "      <td>-0.058736</td>\n",
              "      <td>-0.017975</td>\n",
              "      <td>0.049827</td>\n",
              "      <td>-0.041526</td>\n",
              "      <td>0.007280</td>\n",
              "      <td>-0.048245</td>\n",
              "      <td>1.000000</td>\n",
              "      <td>0.039707</td>\n",
              "      <td>-0.000396</td>\n",
              "    </tr>\n",
              "    <tr>\n",
              "      <th>KidneyDisease</th>\n",
              "      <td>0.145197</td>\n",
              "      <td>0.050768</td>\n",
              "      <td>0.034920</td>\n",
              "      <td>-0.028280</td>\n",
              "      <td>0.091167</td>\n",
              "      <td>0.142197</td>\n",
              "      <td>0.037281</td>\n",
              "      <td>0.153064</td>\n",
              "      <td>-0.009084</td>\n",
              "      <td>0.123728</td>\n",
              "      <td>0.003709</td>\n",
              "      <td>0.142917</td>\n",
              "      <td>-0.081827</td>\n",
              "      <td>-0.010580</td>\n",
              "      <td>0.006238</td>\n",
              "      <td>0.039707</td>\n",
              "      <td>1.000000</td>\n",
              "      <td>0.061816</td>\n",
              "    </tr>\n",
              "    <tr>\n",
              "      <th>SkinCancer</th>\n",
              "      <td>0.093317</td>\n",
              "      <td>-0.033644</td>\n",
              "      <td>0.033977</td>\n",
              "      <td>-0.005702</td>\n",
              "      <td>0.048116</td>\n",
              "      <td>0.041700</td>\n",
              "      <td>-0.033412</td>\n",
              "      <td>0.064840</td>\n",
              "      <td>0.013434</td>\n",
              "      <td>0.265904</td>\n",
              "      <td>0.134780</td>\n",
              "      <td>0.032523</td>\n",
              "      <td>-0.001328</td>\n",
              "      <td>0.018982</td>\n",
              "      <td>0.041266</td>\n",
              "      <td>-0.000396</td>\n",
              "      <td>0.061816</td>\n",
              "      <td>1.000000</td>\n",
              "    </tr>\n",
              "  </tbody>\n",
              "</table>\n",
              "</div>"
            ],
            "text/plain": [
              "                  HeartDisease       BMI   Smoking  AlcoholDrinking    Stroke  \\\n",
              "HeartDisease          1.000000  0.051803  0.107764        -0.032080  0.196835   \n",
              "BMI                   0.051803  1.000000  0.023118        -0.038816  0.019733   \n",
              "Smoking               0.107764  0.023118  1.000000         0.111768  0.061226   \n",
              "AlcoholDrinking      -0.032080 -0.038816  0.111768         1.000000 -0.019858   \n",
              "Stroke                0.196835  0.019733  0.061226        -0.019858  1.000000   \n",
              "PhysicalHealth        0.170721  0.109788  0.115352        -0.017254  0.137014   \n",
              "MentalHealth          0.028591  0.064131  0.085157         0.051282  0.046467   \n",
              "DiffWalking           0.201258  0.181678  0.120074        -0.035328  0.174143   \n",
              "Sex                   0.070040  0.026940  0.085052         0.004200 -0.003091   \n",
              "AgeCategory           0.235521 -0.010508  0.125694        -0.060545  0.139238   \n",
              "Race                  0.034854 -0.037424  0.065499         0.036702 -0.003956   \n",
              "Diabetic              0.168553  0.202472  0.053847        -0.057372  0.101518   \n",
              "PhysicalActivity     -0.100030 -0.150616 -0.097174         0.017487 -0.079455   \n",
              "GenHealth            -0.011062  0.035932  0.020625         0.001629 -0.009335   \n",
              "SleepTime             0.008327 -0.051822 -0.030336        -0.005065  0.011900   \n",
              "Asthma                0.041444  0.092345  0.024149        -0.002202  0.038866   \n",
              "KidneyDisease         0.145197  0.050768  0.034920        -0.028280  0.091167   \n",
              "SkinCancer            0.093317 -0.033644  0.033977        -0.005702  0.048116   \n",
              "\n",
              "                  PhysicalHealth  MentalHealth  DiffWalking       Sex  \\\n",
              "HeartDisease            0.170721      0.028591     0.201258  0.070040   \n",
              "BMI                     0.109788      0.064131     0.181678  0.026940   \n",
              "Smoking                 0.115352      0.085157     0.120074  0.085052   \n",
              "AlcoholDrinking        -0.017254      0.051282    -0.035328  0.004200   \n",
              "Stroke                  0.137014      0.046467     0.174143 -0.003091   \n",
              "PhysicalHealth          1.000000      0.287987     0.428373 -0.040904   \n",
              "MentalHealth            0.287987      1.000000     0.152235 -0.100058   \n",
              "DiffWalking             0.428373      0.152235     1.000000 -0.068860   \n",
              "Sex                    -0.040904     -0.100058    -0.068860  1.000000   \n",
              "AgeCategory             0.109818     -0.155391     0.246269 -0.068886   \n",
              "Race                   -0.000847     -0.014491    -0.015831  0.018855   \n",
              "Diabetic                0.151361      0.032945     0.205502 -0.013456   \n",
              "PhysicalActivity       -0.232283     -0.095808    -0.278524  0.048247   \n",
              "GenHealth              -0.035703     -0.004412    -0.043552 -0.010283   \n",
              "SleepTime              -0.061387     -0.119717    -0.022216 -0.015704   \n",
              "Asthma                  0.117907      0.114008     0.103222 -0.069191   \n",
              "KidneyDisease           0.142197      0.037281     0.153064 -0.009084   \n",
              "SkinCancer              0.041700     -0.033412     0.064840  0.013434   \n",
              "\n",
              "                  AgeCategory      Race  Diabetic  PhysicalActivity  \\\n",
              "HeartDisease         0.235521  0.034854  0.168553         -0.100030   \n",
              "BMI                 -0.010508 -0.037424  0.202472         -0.150616   \n",
              "Smoking              0.125694  0.065499  0.053847         -0.097174   \n",
              "AlcoholDrinking     -0.060545  0.036702 -0.057372          0.017487   \n",
              "Stroke               0.139238 -0.003956  0.101518         -0.079455   \n",
              "PhysicalHealth       0.109818 -0.000847  0.151361         -0.232283   \n",
              "MentalHealth        -0.155391 -0.014491  0.032945         -0.095808   \n",
              "DiffWalking          0.246269 -0.015831  0.205502         -0.278524   \n",
              "Sex                 -0.068886  0.018855 -0.013456          0.048247   \n",
              "AgeCategory          1.000000  0.162573  0.190010         -0.124350   \n",
              "Race                 0.162573  1.000000 -0.052216          0.056767   \n",
              "Diabetic             0.190010 -0.052216  1.000000         -0.133824   \n",
              "PhysicalActivity    -0.124350  0.056767 -0.133824          1.000000   \n",
              "GenHealth            0.043719  0.050344 -0.010854          0.024418   \n",
              "SleepTime            0.107094  0.035889  0.000449          0.003849   \n",
              "Asthma              -0.058736 -0.017975  0.049827         -0.041526   \n",
              "KidneyDisease        0.123728  0.003709  0.142917         -0.081827   \n",
              "SkinCancer           0.265904  0.134780  0.032523         -0.001328   \n",
              "\n",
              "                  GenHealth  SleepTime    Asthma  KidneyDisease  SkinCancer  \n",
              "HeartDisease      -0.011062   0.008327  0.041444       0.145197    0.093317  \n",
              "BMI                0.035932  -0.051822  0.092345       0.050768   -0.033644  \n",
              "Smoking            0.020625  -0.030336  0.024149       0.034920    0.033977  \n",
              "AlcoholDrinking    0.001629  -0.005065 -0.002202      -0.028280   -0.005702  \n",
              "Stroke            -0.009335   0.011900  0.038866       0.091167    0.048116  \n",
              "PhysicalHealth    -0.035703  -0.061387  0.117907       0.142197    0.041700  \n",
              "MentalHealth      -0.004412  -0.119717  0.114008       0.037281   -0.033412  \n",
              "DiffWalking       -0.043552  -0.022216  0.103222       0.153064    0.064840  \n",
              "Sex               -0.010283  -0.015704 -0.069191      -0.009084    0.013434  \n",
              "AgeCategory        0.043719   0.107094 -0.058736       0.123728    0.265904  \n",
              "Race               0.050344   0.035889 -0.017975       0.003709    0.134780  \n",
              "Diabetic          -0.010854   0.000449  0.049827       0.142917    0.032523  \n",
              "PhysicalActivity   0.024418   0.003849 -0.041526      -0.081827   -0.001328  \n",
              "GenHealth          1.000000  -0.004163  0.007280      -0.010580    0.018982  \n",
              "SleepTime         -0.004163   1.000000 -0.048245       0.006238    0.041266  \n",
              "Asthma             0.007280  -0.048245  1.000000       0.039707   -0.000396  \n",
              "KidneyDisease     -0.010580   0.006238  0.039707       1.000000    0.061816  \n",
              "SkinCancer         0.018982   0.041266 -0.000396       0.061816    1.000000  "
            ]
          },
          "execution_count": 16,
          "metadata": {},
          "output_type": "execute_result"
        }
      ],
      "source": [
        "h1.corr()"
      ]
    },
    {
      "cell_type": "code",
      "execution_count": 17,
      "metadata": {
        "colab": {
          "base_uri": "https://localhost:8080/",
          "height": 357
        },
        "id": "Rb_mcKGX3wjC",
        "outputId": "15ee2e3c-25c5-4716-fb95-f228b610317a"
      },
      "outputs": [
        {
          "data": {
            "text/plain": [
              "<matplotlib.axes._subplots.AxesSubplot at 0xb646430>"
            ]
          },
          "execution_count": 17,
          "metadata": {},
          "output_type": "execute_result"
        },
        {
          "data": {
            "image/png": "[encoded data removed]",
            "text/plain": [
              "<Figure size 432x288 with 2 Axes>"
            ]
          },
          "metadata": {
            "needs_background": "light"
          },
          "output_type": "display_data"
        }
      ],
      "source": [
        "sns.heatmap(h1)"
      ]
    },
    {
      "cell_type": "code",
      "execution_count": 18,
      "metadata": {
        "colab": {
          "base_uri": "https://localhost:8080/",
          "height": 494
        },
        "id": "SO518Vdl1_t4",
        "outputId": "c7a0dae2-6895-41db-c58c-b385a0781c91"
      },
      "outputs": [
        {
          "data": {
            "image/png": "[encoded data removed]",
            "text/plain": [
              "<Figure size 360x432 with 1 Axes>"
            ]
          },
          "metadata": {
            "needs_background": "light"
          },
          "output_type": "display_data"
        }
      ],
      "source": [
        "plt.figure(figsize=(5,6))\n",
        "sns.set_context('notebook',font_scale = 1)\n",
        "sns.barplot(h1.AgeCategory.value_counts().index , h1.AgeCategory.value_counts().values)\n",
        "plt.tight_layout()"
      ]
    },
    {
      "cell_type": "code",
      "execution_count": 19,
      "metadata": {
        "colab": {
          "base_uri": "https://localhost:8080/",
          "height": 277
        },
        "id": "1wqlv5kw1_xK",
        "outputId": "826b53ac-5407-4ea3-bf6f-045a5f1c11a1"
      },
      "outputs": [
        {
          "data": {
            "image/png": "[encoded data removed]",
            "text/plain": [
              "<Figure size 576x216 with 1 Axes>"
            ]
          },
          "metadata": {
            "needs_background": "light"
          },
          "output_type": "display_data"
        }
      ],
      "source": [
        "plt.figure(figsize=(8,3))\n",
        "sns.set_context('notebook',font_scale = 1)\n",
        "sns.countplot(h1['Sex'])\n",
        "plt.tight_layout()"
      ]
    },
    {
      "cell_type": "code",
      "execution_count": 20,
      "metadata": {
        "colab": {
          "base_uri": "https://localhost:8080/",
          "height": 277
        },
        "id": "zk-uDgsr4CAq",
        "outputId": "c7b89f5e-f1e6-4f4e-9163-74c3b737daf2"
      },
      "outputs": [
        {
          "data": {
            "image/png": "[encoded data removed]",
            "text/plain": [
              "<Figure size 648x216 with 1 Axes>"
            ]
          },
          "metadata": {
            "needs_background": "light"
          },
          "output_type": "display_data"
        }
      ],
      "source": [
        "plt.figure(figsize=(9,3))\n",
        "sns.set_context('notebook',font_scale = 1)\n",
        "sns.countplot(h1['Sex'],hue=h1[\"AlcoholDrinking\"])\n",
        "plt.tight_layout()"
      ]
    },
    {
      "cell_type": "markdown",
      "metadata": {
        "id": "ULzm9mch0mR9"
      },
      "source": [
        "Chi-Squared test"
      ]
    },
    {
      "cell_type": "code",
      "execution_count": 21,
      "metadata": {
        "id": "wQtrTQ2Wn0x_"
      },
      "outputs": [],
      "source": [
        "from sklearn.feature_selection import SelectKBest\n",
        "from sklearn.feature_selection import chi2"
      ]
    },
    {
      "cell_type": "code",
      "execution_count": 22,
      "metadata": {
        "colab": {
          "base_uri": "https://localhost:8080/",
          "height": 582
        },
        "id": "T1HzXSmPv6Zj",
        "outputId": "26d4823c-c2a3-4767-c0e5-2848eb7ee3b8"
      },
      "outputs": [
        {
          "data": {
            "text/html": [
              "<div>\n",
              "<style scoped>\n",
              "    .dataframe tbody tr th:only-of-type {\n",
              "        vertical-align: middle;\n",
              "    }\n",
              "\n",
              "    .dataframe tbody tr th {\n",
              "        vertical-align: top;\n",
              "    }\n",
              "\n",
              "    .dataframe thead th {\n",
              "        text-align: right;\n",
              "    }\n",
              "</style>\n",
              "<table border=\"1\" class=\"dataframe\">\n",
              "  <thead>\n",
              "    <tr style=\"text-align: right;\">\n",
              "      <th></th>\n",
              "      <th>0</th>\n",
              "      <th>0</th>\n",
              "    </tr>\n",
              "  </thead>\n",
              "  <tbody>\n",
              "    <tr>\n",
              "      <th>0</th>\n",
              "      <td>BMI</td>\n",
              "      <td>1224.020726</td>\n",
              "    </tr>\n",
              "    <tr>\n",
              "      <th>1</th>\n",
              "      <td>Smoking</td>\n",
              "      <td>2181.953023</td>\n",
              "    </tr>\n",
              "    <tr>\n",
              "      <th>2</th>\n",
              "      <td>AlcoholDrinking</td>\n",
              "      <td>306.693270</td>\n",
              "    </tr>\n",
              "    <tr>\n",
              "      <th>3</th>\n",
              "      <td>Stroke</td>\n",
              "      <td>11922.577647</td>\n",
              "    </tr>\n",
              "    <tr>\n",
              "      <th>4</th>\n",
              "      <td>PhysicalHealth</td>\n",
              "      <td>174751.529924</td>\n",
              "    </tr>\n",
              "    <tr>\n",
              "      <th>5</th>\n",
              "      <td>MentalHealth</td>\n",
              "      <td>4243.691008</td>\n",
              "    </tr>\n",
              "    <tr>\n",
              "      <th>6</th>\n",
              "      <td>DiffWalking</td>\n",
              "      <td>11154.414931</td>\n",
              "    </tr>\n",
              "    <tr>\n",
              "      <th>7</th>\n",
              "      <td>Sex</td>\n",
              "      <td>823.195671</td>\n",
              "    </tr>\n",
              "    <tr>\n",
              "      <th>8</th>\n",
              "      <td>AgeCategory</td>\n",
              "      <td>112073.655468</td>\n",
              "    </tr>\n",
              "    <tr>\n",
              "      <th>9</th>\n",
              "      <td>Race</td>\n",
              "      <td>129.834374</td>\n",
              "    </tr>\n",
              "    <tr>\n",
              "      <th>10</th>\n",
              "      <td>Diabetic</td>\n",
              "      <td>15526.406399</td>\n",
              "    </tr>\n",
              "    <tr>\n",
              "      <th>11</th>\n",
              "      <td>PhysicalActivity</td>\n",
              "      <td>718.810142</td>\n",
              "    </tr>\n",
              "    <tr>\n",
              "      <th>12</th>\n",
              "      <td>GenHealth</td>\n",
              "      <td>41.496727</td>\n",
              "    </tr>\n",
              "    <tr>\n",
              "      <th>13</th>\n",
              "      <td>SleepTime</td>\n",
              "      <td>6.442351</td>\n",
              "    </tr>\n",
              "    <tr>\n",
              "      <th>14</th>\n",
              "      <td>Asthma</td>\n",
              "      <td>475.647835</td>\n",
              "    </tr>\n",
              "    <tr>\n",
              "      <th>15</th>\n",
              "      <td>KidneyDisease</td>\n",
              "      <td>6493.654143</td>\n",
              "    </tr>\n",
              "    <tr>\n",
              "      <th>16</th>\n",
              "      <td>SkinCancer</td>\n",
              "      <td>2525.122509</td>\n",
              "    </tr>\n",
              "  </tbody>\n",
              "</table>\n",
              "</div>"
            ],
            "text/plain": [
              "                   0              0\n",
              "0                BMI    1224.020726\n",
              "1            Smoking    2181.953023\n",
              "2    AlcoholDrinking     306.693270\n",
              "3             Stroke   11922.577647\n",
              "4     PhysicalHealth  174751.529924\n",
              "5       MentalHealth    4243.691008\n",
              "6        DiffWalking   11154.414931\n",
              "7                Sex     823.195671\n",
              "8        AgeCategory  112073.655468\n",
              "9               Race     129.834374\n",
              "10          Diabetic   15526.406399\n",
              "11  PhysicalActivity     718.810142\n",
              "12         GenHealth      41.496727\n",
              "13         SleepTime       6.442351\n",
              "14            Asthma     475.647835\n",
              "15     KidneyDisease    6493.654143\n",
              "16        SkinCancer    2525.122509"
            ]
          },
          "execution_count": 22,
          "metadata": {},
          "output_type": "execute_result"
        }
      ],
      "source": [
        "h2=h1.copy()\n",
        "\n",
        "x=h2.iloc[:,1:18]\n",
        "y=h2.iloc[:,0]\n",
        "\n",
        "bestfeatures = SelectKBest(score_func=chi2, k=10)\n",
        "fit = bestfeatures.fit(x,y)\n",
        "\n",
        "h2columns = pd.DataFrame(x.columns)\n",
        "h2sc = pd.DataFrame(fit.scores_)\n",
        "\n",
        "featureScores = pd.concat([h2columns,h2sc],axis=1)\n",
        "featureScores"
      ]
    },
    {
      "cell_type": "code",
      "execution_count": 23,
      "metadata": {
        "id": "0ORlKH9yxstv"
      },
      "outputs": [],
      "source": [
        "from sklearn.model_selection import train_test_split\n",
        "from sklearn.linear_model import LogisticRegression\n",
        "from sklearn.linear_model import LinearRegression\n",
        "from sklearn.metrics import accuracy_score, confusion_matrix,classification_report\n",
        "from sklearn.neighbors import KNeighborsClassifier\n",
        "from sklearn.naive_bayes import GaussianNB\n",
        "from sklearn.naive_bayes import BernoulliNB\n",
        "from sklearn.svm import SVC "
      ]
    },
    {
      "cell_type": "code",
      "execution_count": 24,
      "metadata": {
        "id": "z9U6fAe13nxA"
      },
      "outputs": [],
      "source": [
        "x=h2.drop('HeartDisease',axis=1)\n",
        "y=h2['HeartDisease']\n",
        "\n",
        "x_train, x_test, y_train, y_test = train_test_split(x, y, test_size=0.3, random_state=0)\n"
      ]
    },
    {
      "cell_type": "code",
      "execution_count": 25,
      "metadata": {
        "id": "J83byZQnz9jt"
      },
      "outputs": [],
      "source": [
        "hp=h.copy()\n",
        "m=hp.drop('HeartDisease',axis=1)\n",
        "n=hp['HeartDisease']\n",
        "\n",
        "m_train, m_test, n_train, n_test = train_test_split(m, n, test_size=0.3, random_state=0)"
      ]
    },
    {
      "cell_type": "markdown",
      "metadata": {
        "id": "UCl-sZkwMmn2"
      },
      "source": [
        "KNN Classifier"
      ]
    },
    {
      "cell_type": "code",
      "execution_count": 26,
      "metadata": {
        "colab": {
          "base_uri": "https://localhost:8080/"
        },
        "id": "qzZYTtRYJvEk",
        "outputId": "0b1a74c5-da88-4a2d-c22f-7befa04dc70d"
      },
      "outputs": [
        {
          "name": "stdout",
          "output_type": "stream",
          "text": [
            "0.9131844192664088\n"
          ]
        }
      ],
      "source": [
        "knn = KNeighborsClassifier(n_neighbors = 10)\n",
        "knn.fit(x_train,y_train)\n",
        "y_pred1 = knn.predict(x_test)\n",
        "\n",
        "print(accuracy_score(y_test,y_pred1))"
      ]
    },
    {
      "cell_type": "markdown",
      "metadata": {
        "id": "rI0IRy1iMrp2"
      },
      "source": [
        "Logistic Regression"
      ]
    },
    {
      "cell_type": "code",
      "execution_count": 27,
      "metadata": {
        "id": "sDE2EJA44Vuy"
      },
      "outputs": [],
      "source": [
        "model = LogisticRegression(max_iter=3000)\n",
        "model.fit(x_train,y_train)\n",
        "\n",
        "p=model.predict(x_test)"
      ]
    },
    {
      "cell_type": "code",
      "execution_count": 28,
      "metadata": {
        "colab": {
          "base_uri": "https://localhost:8080/"
        },
        "id": "DOcVX48p50Tt",
        "outputId": "58f98bce-c9fa-4c09-f9b8-86a5972e823a"
      },
      "outputs": [
        {
          "data": {
            "text/plain": [
              "0.9145707168096394"
            ]
          },
          "execution_count": 28,
          "metadata": {},
          "output_type": "execute_result"
        }
      ],
      "source": [
        "accuracy_score(y_test,p)"
      ]
    },
    {
      "cell_type": "code",
      "execution_count": 29,
      "metadata": {
        "id": "IaDEB1NW6Kb7"
      },
      "outputs": [],
      "source": [
        "import pickle\n",
        "\n",
        "pickle.dump(model, open('model.pkl', 'wb'))\n",
        "model = pickle.load(open('model.pkl', 'rb'))"
      ]
    },
    {
      "cell_type": "code",
      "execution_count": 30,
      "metadata": {
        "colab": {
          "base_uri": "https://localhost:8080/"
        },
        "id": "rvWMpyNY00CB",
        "outputId": "7fa6343a-66bf-468d-9b25-a2b3633553be"
      },
      "outputs": [
        {
          "data": {
            "text/plain": [
              "0.9148291758987921"
            ]
          },
          "execution_count": 30,
          "metadata": {},
          "output_type": "execute_result"
        }
      ],
      "source": [
        "q=model.predict(x_train)\n",
        "accuracy_score(y_train,q)"
      ]
    },
    {
      "cell_type": "markdown",
      "metadata": {
        "id": "SPUlsIDMSqCl"
      },
      "source": [
        "Gaussian Classifier"
      ]
    },
    {
      "cell_type": "code",
      "execution_count": 31,
      "metadata": {
        "colab": {
          "base_uri": "https://localhost:8080/"
        },
        "id": "T4XcAtJlR1iJ",
        "outputId": "2d88f8f5-446a-492e-b0f4-853b2f57acf9"
      },
      "outputs": [
        {
          "data": {
            "text/plain": [
              "0.8457978507176435"
            ]
          },
          "execution_count": 31,
          "metadata": {},
          "output_type": "execute_result"
        }
      ],
      "source": [
        "gnb = GaussianNB()\n",
        "gnb.fit(x_train, y_train)\n",
        "\n",
        "y_pred = gnb.predict(x_test)\n",
        "accuracy_score(y_test,y_pred)"
      ]
    },
    {
      "cell_type": "code",
      "execution_count": 32,
      "metadata": {
        "colab": {
          "base_uri": "https://localhost:8080/"
        },
        "id": "yHk6WMEjJtE-",
        "outputId": "bd05f410-6f91-45d3-82e6-05d20f4379d8"
      },
      "outputs": [
        {
          "data": {
            "text/plain": [
              "0.8989253588217513"
            ]
          },
          "execution_count": 32,
          "metadata": {},
          "output_type": "execute_result"
        }
      ],
      "source": [
        "clf = BernoulliNB()\n",
        "clf.fit(x_train,y_train)\n",
        "\n",
        "g=clf.predict(x_test)\n",
        "accuracy_score(y_test,g)"
      ]
    },
    {
      "cell_type": "code",
      "execution_count": 33,
      "metadata": {
        "colab": {
          "base_uri": "https://localhost:8080/"
        },
        "id": "0H_p8RDF-me_",
        "outputId": "94a29e4a-b848-42eb-9cdc-a38b9c3052b3"
      },
      "outputs": [
        {
          "data": {
            "text/plain": [
              "0.907545419485298"
            ]
          },
          "execution_count": 33,
          "metadata": {},
          "output_type": "execute_result"
        }
      ],
      "source": [
        "from sklearn.ensemble import RandomForestClassifier\n",
        "\n",
        "rf = RandomForestClassifier(n_estimators = 100) \n",
        "rf.fit(x_train,y_train)\n",
        "\n",
        "r=rf.predict(x_test)\n",
        "accuracy_score(y_test,r)\n"
      ]
    },
    {
      "cell_type": "markdown",
      "metadata": {
        "id": "bvWEbhuNVCNY"
      },
      "source": [
        "Removing columns that were least related"
      ]
    },
    {
      "cell_type": "code",
      "execution_count": 34,
      "metadata": {
        "colab": {
          "base_uri": "https://localhost:8080/"
        },
        "id": "2uMEYPEd6W6f",
        "outputId": "f0cfc6d0-2046-47b8-8beb-12d3b8ee3e49"
      },
      "outputs": [
        {
          "data": {
            "text/plain": [
              "['HeartDisease',\n",
              " 'BMI',\n",
              " 'Smoking',\n",
              " 'AlcoholDrinking',\n",
              " 'Stroke',\n",
              " 'PhysicalHealth',\n",
              " 'MentalHealth',\n",
              " 'DiffWalking',\n",
              " 'Sex',\n",
              " 'AgeCategory',\n",
              " 'Race',\n",
              " 'Diabetic',\n",
              " 'PhysicalActivity',\n",
              " 'Asthma',\n",
              " 'KidneyDisease',\n",
              " 'SkinCancer']"
            ]
          },
          "execution_count": 34,
          "metadata": {},
          "output_type": "execute_result"
        }
      ],
      "source": [
        "h3=h2.copy()\n",
        "h3=h3.drop(['SleepTime','GenHealth'], axis = 1)\n",
        "list(h3.columns)"
      ]
    },
    {
      "cell_type": "code",
      "execution_count": 35,
      "metadata": {
        "id": "IpvQuNsH6aFl"
      },
      "outputs": [],
      "source": [
        "a=h3.drop('HeartDisease',axis=1)\n",
        "b=h3['HeartDisease']"
      ]
    },
    {
      "cell_type": "code",
      "execution_count": 36,
      "metadata": {
        "id": "1_8hSdxo-KcX"
      },
      "outputs": [],
      "source": [
        "a_train, a_test, b_train, b_test = train_test_split(a, b, test_size=0.3, random_state=0)"
      ]
    },
    {
      "cell_type": "code",
      "execution_count": 37,
      "metadata": {
        "id": "7mRVgjak9nKq"
      },
      "outputs": [],
      "source": [
        "ml = LogisticRegression(max_iter=3000)\n",
        "ml.fit(a_train,b_train)\n",
        "\n",
        "p1=ml.predict(a_test)"
      ]
    },
    {
      "cell_type": "code",
      "execution_count": 38,
      "metadata": {
        "colab": {
          "base_uri": "https://localhost:8080/"
        },
        "id": "OkBrgtzb-CKX",
        "outputId": "8fa5dd16-1936-443f-df7e-74137411e7d7"
      },
      "outputs": [
        {
          "data": {
            "text/plain": [
              "0.9146957962872242"
            ]
          },
          "execution_count": 38,
          "metadata": {},
          "output_type": "execute_result"
        }
      ],
      "source": [
        "accuracy_score(b_test,p1)"
      ]
    },
    {
      "cell_type": "code",
      "execution_count": 39,
      "metadata": {
        "colab": {
          "base_uri": "https://localhost:8080/"
        },
        "id": "QBO90luRAL7S",
        "outputId": "07298a34-3091-4cec-d5c5-1d738c154226"
      },
      "outputs": [
        {
          "name": "stdout",
          "output_type": "stream",
          "text": [
            "0.9132365357154025\n"
          ]
        }
      ],
      "source": [
        "knn1 = KNeighborsClassifier(n_neighbors = 10)\n",
        "knn1.fit(a_train,b_train)\n",
        "y_pred1 = knn1.predict(a_test)\n",
        "\n",
        "print(accuracy_score(b_test,y_pred1))"
      ]
    },
    {
      "cell_type": "code",
      "execution_count": 40,
      "metadata": {
        "colab": {
          "base_uri": "https://localhost:8080/"
        },
        "id": "b7KWMNv7KJtW",
        "outputId": "deb3818c-ea75-40e6-c2ce-bc7f32f86045"
      },
      "outputs": [
        {
          "data": {
            "text/plain": [
              "0.901948112863382"
            ]
          },
          "execution_count": 40,
          "metadata": {},
          "output_type": "execute_result"
        }
      ],
      "source": [
        "clf = BernoulliNB()\n",
        "clf.fit(a_train,b_train)\n",
        "\n",
        "g1=clf.predict(a_test)\n",
        "accuracy_score(b_test,g1)"
      ]
    }
  ],
  "metadata": {
    "colab": {
      "collapsed_sections": [],
      "name": "STC_Task.ipynb",
      "provenance": []
    },
    "kernelspec": {
      "display_name": "Python 3",
      "name": "python3"
    },
    "language_info": {
      "name": "python",
      "version": "3.8.3"
    }
  },
  "nbformat": 4,
  "nbformat_minor": 0
}
